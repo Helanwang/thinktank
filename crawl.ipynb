{
 "cells": [
  {
   "cell_type": "markdown",
   "metadata": {},
   "source": [
    "# Obtain article titles and metadata from a given query (i.e. race)"
   ]
  },
  {
   "cell_type": "code",
   "execution_count": 3,
   "metadata": {},
   "outputs": [
    {
     "name": "stdout",
     "output_type": "stream",
     "text": [
      "Starting the WebDriver.\n",
      "WebDriver started and page loaded.\n",
      "Looking for 'Show More' button.\n",
      "Waiting for 'Show More' button to be clickable.\n",
      "Clicking 'Show More' button.\n",
      "Clicked 'Show More' and waiting for more results.\n",
      "Looking for 'Show More' button.\n",
      "Waiting for 'Show More' button to be clickable.\n",
      "No more results or error occurred: Message: \n",
      "\n",
      "Extracting titles from all pages.\n",
      "Extracting titles from the page.\n",
      "Found 13 titles.\n",
      "Displaying 13 search results.\n",
      "                                       Search Results\n",
      "0   The lamppost theory: Why economic policy so of...\n",
      "1   Restoring non-discrimination to the 21st centu...\n",
      "2   10 economic characteristics of refugee arrival...\n",
      "3   Rigorous preschool research illuminates policy...\n",
      "4                            (re)Searching for impact\n",
      "5   Is the U.S. military's futurism obsession hurt...\n",
      "6   The Missing “One-Offs”: The Hidden Supply of H...\n",
      "7                         Somebody Turn on the Lights\n",
      "8         Libya's Muslim Brotherhood Faces the Future\n",
      "9         An innovation district grows in Chattanooga\n",
      "10  Chez les démocrates, la campagne est passée d'...\n",
      "11  L'Europe islamisée : réflexions sur un genre l...\n",
      "12         Scenarios for Reforming the United Nations\n"
     ]
    }
   ],
   "source": [
    "from selenium import webdriver\n",
    "from selenium.webdriver.common.by import By\n",
    "from selenium.webdriver.chrome.service import Service\n",
    "from selenium.webdriver.support.ui import WebDriverWait\n",
    "from selenium.webdriver.support import expected_conditions as EC\n",
    "import time\n",
    "import pandas as pd\n",
    "\n",
    "# Function to start the driver\n",
    "def start_driver(page):\n",
    "    print(\"Starting the WebDriver.\")\n",
    "    service = Service('/usr/local/bin/chromedriver')\n",
    "    driver = webdriver.Chrome(service=service)\n",
    "    driver.get(page)\n",
    "    time.sleep(2)  # Wait for the page to load\n",
    "    print(\"WebDriver started and page loaded.\")\n",
    "    return driver\n",
    "\n",
    "def extract_titles(driver):\n",
    "    titles = []\n",
    "    # Locate all <li> elements with the class 'ais-InfiniteHits-item' (each representing an article)\n",
    "    print(\"Extracting titles from the page.\")\n",
    "    result_elements = driver.find_elements(By.CSS_SELECTOR, 'li.ais-InfiniteHits-item')  # Each article is inside this li\n",
    "    \n",
    "    for element in result_elements:\n",
    "        try:\n",
    "            # Find the title inside the span with class 'sr-only'\n",
    "            title_element = element.find_element(By.CSS_SELECTOR, 'span.sr-only')\n",
    "            title = title_element.text.strip()  # Extract text and strip any extra whitespace\n",
    "            titles.append(title)\n",
    "        except Exception as e:\n",
    "            print(\"Error extracting title:\", e)\n",
    "    \n",
    "    print(f\"Found {len(titles)} titles.\")\n",
    "    return titles\n",
    "\n",
    "\n",
    "# Function to scrape all titles from the page\n",
    "def scrape_all_titles(query):\n",
    "    page = f\"https://www.brookings.edu/?s={query}\"\n",
    "    driver = start_driver(page)\n",
    "    \n",
    "    # Step 1: Reach the bottom of the page by loading more results until no more\n",
    "    while True:\n",
    "        try:\n",
    "            print(\"Looking for 'Show More' button.\")\n",
    "            show_more_button = driver.find_element(By.CSS_SELECTOR, 'button.ais-InfiniteHits-loadMore')  # Adjust the selector\n",
    "            \n",
    "            # Wait until the button is clickable\n",
    "            print(\"Waiting for 'Show More' button to be clickable.\")\n",
    "            WebDriverWait(driver, 5).until(EC.element_to_be_clickable(show_more_button))\n",
    "            \n",
    "            print(\"Clicking 'Show More' button.\")\n",
    "            show_more_button.click()\n",
    "            time.sleep(2)  # Wait for new results to load\n",
    "            print(\"Clicked 'Show More' and waiting for more results.\")\n",
    "        except Exception as e:\n",
    "            # If the 'Show More' button isn't found or is no longer clickable, we assume we've reached the bottom\n",
    "            print(\"No more results or error occurred:\", e)\n",
    "            break\n",
    "    \n",
    "    # Step 2: Now that all results are loaded, extract titles\n",
    "    print(\"Extracting titles from all pages.\")\n",
    "    titles = extract_titles(driver)\n",
    "    \n",
    "    # Step 3: Convert the list of titles to a Pandas DataFrame\n",
    "    df = pd.DataFrame(titles, columns=[\"Search Results\"])\n",
    "    \n",
    "    # Display the DataFrame\n",
    "    print(f\"Displaying {len(df)} search results.\")\n",
    "    print(df)  # Display the DataFrame in the console\n",
    "    \n",
    "    # Close the driver\n",
    "    driver.quit()\n",
    "\n",
    "# Define the query and call the function\n",
    "query = \"lamppost\"  # Example query\n",
    "scrape_all_titles(query)\n"
   ]
  },
  {
   "cell_type": "code",
   "execution_count": null,
   "metadata": {},
   "outputs": [],
   "source": []
  },
  {
   "cell_type": "code",
   "execution_count": null,
   "metadata": {},
   "outputs": [],
   "source": [
    "!pip install ace_tools"
   ]
  }
 ],
 "metadata": {
  "kernelspec": {
   "display_name": "cs41-env",
   "language": "python",
   "name": "python3"
  },
  "language_info": {
   "codemirror_mode": {
    "name": "ipython",
    "version": 3
   },
   "file_extension": ".py",
   "mimetype": "text/x-python",
   "name": "python",
   "nbconvert_exporter": "python",
   "pygments_lexer": "ipython3",
   "version": "3.11.11"
  }
 },
 "nbformat": 4,
 "nbformat_minor": 2
}
